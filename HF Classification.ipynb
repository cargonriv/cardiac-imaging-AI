{
 "cells": [
  {
   "cell_type": "code",
   "execution_count": 24,
   "metadata": {
    "collapsed": false,
    "scrolled": true
   },
   "outputs": [
   ],
   "source": [
    "import itertools\n",
    "import matplotlib.pyplot as plt\n",
    "from matplotlib.ticker import NullFormatter\n",
    "import pandas as pd\n",
    "import numpy as np\n",
    "import matplotlib.ticker as ticker\n",
    "import scipy.optimize as opt\n",
    "from sklearn import preprocessing\n",
    "from sklearn.tree import DecisionTreeClassifier\n",
    "from sklearn.model_selection import train_test_split\n",
    "from sklearn import metrics\n",
    "from sklearn.metrics import accuracy_score\n",
    "%matplotlib inline"
   ]
  },
  {
   "cell_type": "code",
   "execution_count": 25,
   "metadata": {
    "collapsed": false
   },
   "outputs": [
    {
     "name": "stdout",
     "output_type": "stream",
     "text": [
      "--2021-05-21 02:10:38--  https://raw.githubusercontent.com/cargonriv/cardiac-imaging-AI/main/SCD-PatientStat.csv\r\n",
      "Resolving raw.githubusercontent.com (raw.githubusercontent.com)... 185.199.109.133, 185.199.108.133, 185.199.111.133, ...\r\n",
      "Connecting to raw.githubusercontent.com (raw.githubusercontent.com)|185.199.109.133|:443... connected.\r\n"
     ]
    },
    {
     "name": "stdout",
     "output_type": "stream",
     "text": [
      "HTTP request sent, awaiting response... "
     ]
    },
    {
     "name": "stdout",
     "output_type": "stream",
     "text": [
      "200 OK\r\n",
      "Length: 1981 (1.9K) [text/plain]\r\n",
      "Saving to: ‘SCD-PatientStat.csv’\r\n",
      "\r\n",
      "\rSCD-PatientStat.csv   0%[                    ]       0  --.-KB/s               \rSCD-PatientStat.csv 100%[===================>]   1.93K  --.-KB/s    in 0s      \r\n",
      "\r\n",
      "2021-05-21 02:10:38 (19.3 MB/s) - ‘SCD-PatientStat.csv’ saved [1981/1981]\r\n",
      "\r\n"
     ]
    },
    {
     "data": {
      "text/html": [
       "<div>\n",
       "<style scoped>\n",
       "    .dataframe tbody tr th:only-of-type {\n",
       "        vertical-align: middle;\n",
       "    }\n",
       "\n",
       "    .dataframe tbody tr th {\n",
       "        vertical-align: top;\n",
       "    }\n",
       "\n",
       "    .dataframe thead th {\n",
       "        text-align: right;\n",
       "    }\n",
       "</style>\n",
       "<table border=\"1\" class=\"dataframe\">\n",
       "  <thead>\n",
       "    <tr style=\"text-align: right;\">\n",
       "      <th></th>\n",
       "      <th>Patient</th>\n",
       "      <th>Gender</th>\n",
       "      <th>Age</th>\n",
       "      <th>HeartRate</th>\n",
       "      <th>EDV</th>\n",
       "      <th>ESV</th>\n",
       "      <th>SV</th>\n",
       "      <th>EF</th>\n",
       "      <th>CO</th>\n",
       "      <th>HF</th>\n",
       "    </tr>\n",
       "  </thead>\n",
       "  <tbody>\n",
       "    <tr>\n",
       "      <th>0</th>\n",
       "      <td>1</td>\n",
       "      <td>Male</td>\n",
       "      <td>53</td>\n",
       "      <td>79</td>\n",
       "      <td>180.69</td>\n",
       "      <td>108.71</td>\n",
       "      <td>71.99</td>\n",
       "      <td>39.84</td>\n",
       "      <td>5.69</td>\n",
       "      <td>1</td>\n",
       "    </tr>\n",
       "    <tr>\n",
       "      <th>1</th>\n",
       "      <td>2</td>\n",
       "      <td>Male</td>\n",
       "      <td>48</td>\n",
       "      <td>87</td>\n",
       "      <td>239.56</td>\n",
       "      <td>180.46</td>\n",
       "      <td>59.09</td>\n",
       "      <td>24.66</td>\n",
       "      <td>5.14</td>\n",
       "      <td>1</td>\n",
       "    </tr>\n",
       "    <tr>\n",
       "      <th>2</th>\n",
       "      <td>3</td>\n",
       "      <td>Male</td>\n",
       "      <td>79</td>\n",
       "      <td>65</td>\n",
       "      <td>271.43</td>\n",
       "      <td>167.00</td>\n",
       "      <td>104.43</td>\n",
       "      <td>38.47</td>\n",
       "      <td>6.79</td>\n",
       "      <td>1</td>\n",
       "    </tr>\n",
       "    <tr>\n",
       "      <th>3</th>\n",
       "      <td>4</td>\n",
       "      <td>Male</td>\n",
       "      <td>45</td>\n",
       "      <td>54</td>\n",
       "      <td>199.57</td>\n",
       "      <td>136.55</td>\n",
       "      <td>63.02</td>\n",
       "      <td>31.58</td>\n",
       "      <td>3.40</td>\n",
       "      <td>1</td>\n",
       "    </tr>\n",
       "    <tr>\n",
       "      <th>4</th>\n",
       "      <td>5</td>\n",
       "      <td>Male</td>\n",
       "      <td>60</td>\n",
       "      <td>88</td>\n",
       "      <td>219.27</td>\n",
       "      <td>110.83</td>\n",
       "      <td>108.44</td>\n",
       "      <td>49.45</td>\n",
       "      <td>9.54</td>\n",
       "      <td>0</td>\n",
       "    </tr>\n",
       "  </tbody>\n",
       "</table>\n",
       "</div>"
      ],
      "text/plain": [
       "   Patient Gender  Age  HeartRate     EDV     ESV      SV     EF    CO  HF\n",
       "0        1   Male   53         79  180.69  108.71   71.99  39.84  5.69   1\n",
       "1        2   Male   48         87  239.56  180.46   59.09  24.66  5.14   1\n",
       "2        3   Male   79         65  271.43  167.00  104.43  38.47  6.79   1\n",
       "3        4   Male   45         54  199.57  136.55   63.02  31.58  3.40   1\n",
       "4        5   Male   60         88  219.27  110.83  108.44  49.45  9.54   0"
      ]
     },
     "execution_count": 25,
     "metadata": {
     },
     "output_type": "execute_result"
    }
   ],
   "source": [
    "!wget -O SCD-PatientStat.csv https://raw.githubusercontent.com/cargonriv/cardiac-imaging-AI/main/SCD-PatientStat.csv\n",
    "df = pd.read_csv('SCD-PatientStat.csv')\n",
    "df.head()"
   ]
  },
  {
   "cell_type": "code",
   "execution_count": 26,
   "metadata": {
    "collapsed": false
   },
   "outputs": [
    {
     "data": {
      "text/plain": [
       "(41, 10)"
      ]
     },
     "execution_count": 26,
     "metadata": {
     },
     "output_type": "execute_result"
    }
   ],
   "source": [
    "df.shape"
   ]
  },
  {
   "cell_type": "code",
   "execution_count": 27,
   "metadata": {
    "collapsed": false
   },
   "outputs": [
    {
     "data": {
      "text/plain": [
       "Patient        int64\n",
       "Gender        object\n",
       "Age            int64\n",
       "HeartRate      int64\n",
       "EDV          float64\n",
       "ESV          float64\n",
       "SV           float64\n",
       "EF           float64\n",
       "CO           float64\n",
       "HF             int64\n",
       "dtype: object"
      ]
     },
     "execution_count": 27,
     "metadata": {
     },
     "output_type": "execute_result"
    }
   ],
   "source": [
    "df.dtypes"
   ]
  },
  {
   "cell_type": "code",
   "execution_count": 28,
   "metadata": {
    "collapsed": false
   },
   "outputs": [
    {
     "data": {
      "text/plain": [
       "0    21\n",
       "1    20\n",
       "Name: HF, dtype: int64"
      ]
     },
     "execution_count": 28,
     "metadata": {
     },
     "output_type": "execute_result"
    }
   ],
   "source": [
    "df['HF'].value_counts()"
   ]
  },
  {
   "cell_type": "code",
   "execution_count": 29,
   "metadata": {
    "collapsed": false
   },
   "outputs": [
    {
     "data": {
      "image/png": "[encoded data removed]",
      "text/plain": [
       "<Figure size 432x216 with 2 Axes>"
      ]
     },
     "execution_count": 29,
     "metadata": {
      "image/png": {
       "height": 211,
       "width": 424
      },
      "needs_background": "light"
     },
     "output_type": "execute_result"
    }
   ],
   "source": [
    "import seaborn as sns\n",
    "\n",
    "bins = np.linspace(df.CO.min(), df.CO.max(), 30)\n",
    "g = sns.FacetGrid(df, col=\"Gender\", hue=\"EF\", palette=\"Set1\", col_wrap=2)\n",
    "g.map(plt.hist, 'CO', bins=bins, ec=\"k\")\n",
    "\n",
    "g.axes[-1].legend()\n",
    "plt.show()"
   ]
  },
  {
   "cell_type": "code",
   "execution_count": 30,
   "metadata": {
    "collapsed": false
   },
   "outputs": [
    {
     "data": {
      "image/png": "[encoded data removed]",
      "text/plain": [
       "<Figure size 432x216 with 2 Axes>"
      ]
     },
     "execution_count": 30,
     "metadata": {
      "image/png": {
       "height": 211,
       "width": 424
      },
      "needs_background": "light"
     },
     "output_type": "execute_result"
    }
   ],
   "source": [
    "bins = np.linspace(df.Age.min(), df.Age.max(), 30)\n",
    "g = sns.FacetGrid(df, col=\"Gender\", hue=\"EF\", palette=\"Set1\", col_wrap=2)\n",
    "g.map(plt.hist, 'Age', bins=bins, ec=\"k\")\n",
    "\n",
    "g.axes[-1].legend()\n",
    "plt.show()"
   ]
  },
  {
   "cell_type": "code",
   "execution_count": 31,
   "metadata": {
    "collapsed": false
   },
   "outputs": [
    {
     "data": {
      "text/plain": [
       "Gender  HF\n",
       "Female  0     0.545455\n",
       "        1     0.454545\n",
       "Male    0     0.500000\n",
       "        1     0.500000\n",
       "Name: HF, dtype: float64"
      ]
     },
     "execution_count": 31,
     "metadata": {
     },
     "output_type": "execute_result"
    }
   ],
   "source": [
    "df.groupby(['Gender'])['HF'].value_counts(normalize=True)"
   ]
  },
  {
   "cell_type": "code",
   "execution_count": 32,
   "metadata": {
    "collapsed": false
   },
   "outputs": [
    {
     "data": {
      "text/plain": [
       "Age  HF\n",
       "23   0     1.000000\n",
       "38   0     1.000000\n",
       "42   0     1.000000\n",
       "45   1     1.000000\n",
       "46   0     1.000000\n",
       "47   0     1.000000\n",
       "48   0     0.500000\n",
       "     1     0.500000\n",
       "51   0     1.000000\n",
       "52   1     1.000000\n",
       "53   0     0.666667\n",
       "     1     0.333333\n",
       "55   1     1.000000\n",
       "57   1     1.000000\n",
       "60   0     1.000000\n",
       "61   0     1.000000\n",
       "62   0     1.000000\n",
       "63   0     0.500000\n",
       "     1     0.500000\n",
       "68   1     1.000000\n",
       "69   1     1.000000\n",
       "70   0     1.000000\n",
       "71   1     1.000000\n",
       "76   0     1.000000\n",
       "77   1     0.750000\n",
       "     0     0.250000\n",
       "79   1     1.000000\n",
       "81   1     1.000000\n",
       "82   1     1.000000\n",
       "83   0     1.000000\n",
       "Name: HF, dtype: float64"
      ]
     },
     "execution_count": 32,
     "metadata": {
     },
     "output_type": "execute_result"
    }
   ],
   "source": [
    "df.groupby(['Age'])['HF'].value_counts(normalize=True)"
   ]
  },
  {
   "cell_type": "code",
   "execution_count": 33,
   "metadata": {
    "collapsed": false,
    "scrolled": true
   },
   "outputs": [
    {
     "data": {
      "text/html": [
       "<div>\n",
       "<style scoped>\n",
       "    .dataframe tbody tr th:only-of-type {\n",
       "        vertical-align: middle;\n",
       "    }\n",
       "\n",
       "    .dataframe tbody tr th {\n",
       "        vertical-align: top;\n",
       "    }\n",
       "\n",
       "    .dataframe thead th {\n",
       "        text-align: right;\n",
       "    }\n",
       "</style>\n",
       "<table border=\"1\" class=\"dataframe\">\n",
       "  <thead>\n",
       "    <tr style=\"text-align: right;\">\n",
       "      <th></th>\n",
       "      <th>Gender</th>\n",
       "      <th>Age</th>\n",
       "      <th>HeartRate</th>\n",
       "      <th>SV</th>\n",
       "      <th>EF</th>\n",
       "      <th>CO</th>\n",
       "      <th>HF</th>\n",
       "      <th>0</th>\n",
       "      <th>1</th>\n",
       "    </tr>\n",
       "  </thead>\n",
       "  <tbody>\n",
       "    <tr>\n",
       "      <th>0</th>\n",
       "      <td>0</td>\n",
       "      <td>53</td>\n",
       "      <td>79</td>\n",
       "      <td>71.99</td>\n",
       "      <td>39.84</td>\n",
       "      <td>5.69</td>\n",
       "      <td>1</td>\n",
       "      <td>0</td>\n",
       "      <td>1</td>\n",
       "    </tr>\n",
       "    <tr>\n",
       "      <th>1</th>\n",
       "      <td>0</td>\n",
       "      <td>48</td>\n",
       "      <td>87</td>\n",
       "      <td>59.09</td>\n",
       "      <td>24.66</td>\n",
       "      <td>5.14</td>\n",
       "      <td>1</td>\n",
       "      <td>0</td>\n",
       "      <td>1</td>\n",
       "    </tr>\n",
       "    <tr>\n",
       "      <th>2</th>\n",
       "      <td>0</td>\n",
       "      <td>79</td>\n",
       "      <td>65</td>\n",
       "      <td>104.43</td>\n",
       "      <td>38.47</td>\n",
       "      <td>6.79</td>\n",
       "      <td>1</td>\n",
       "      <td>0</td>\n",
       "      <td>1</td>\n",
       "    </tr>\n",
       "    <tr>\n",
       "      <th>3</th>\n",
       "      <td>0</td>\n",
       "      <td>45</td>\n",
       "      <td>54</td>\n",
       "      <td>63.02</td>\n",
       "      <td>31.58</td>\n",
       "      <td>3.40</td>\n",
       "      <td>1</td>\n",
       "      <td>0</td>\n",
       "      <td>1</td>\n",
       "    </tr>\n",
       "    <tr>\n",
       "      <th>4</th>\n",
       "      <td>0</td>\n",
       "      <td>60</td>\n",
       "      <td>88</td>\n",
       "      <td>108.44</td>\n",
       "      <td>49.45</td>\n",
       "      <td>9.54</td>\n",
       "      <td>0</td>\n",
       "      <td>1</td>\n",
       "      <td>0</td>\n",
       "    </tr>\n",
       "  </tbody>\n",
       "</table>\n",
       "</div>"
      ],
      "text/plain": [
       "   Gender  Age  HeartRate      SV     EF    CO  HF  0  1\n",
       "0       0   53         79   71.99  39.84  5.69   1  0  1\n",
       "1       0   48         87   59.09  24.66  5.14   1  0  1\n",
       "2       0   79         65  104.43  38.47  6.79   1  0  1\n",
       "3       0   45         54   63.02  31.58  3.40   1  0  1\n",
       "4       0   60         88  108.44  49.45  9.54   0  1  0"
      ]
     },
     "execution_count": 33,
     "metadata": {
     },
     "output_type": "execute_result"
    }
   ],
   "source": [
    "df['Gender'].replace(to_replace=['Male','Female'], value=[0,1],inplace=True)\n",
    "Feature = df[['Gender','Age','HeartRate','SV','EF', 'CO', 'HF']]\n",
    "Feature = pd.concat([Feature,pd.get_dummies(df['HF'])], axis=1)\n",
    "Feature.head()\n"
   ]
  },
  {
   "cell_type": "code",
   "execution_count": 0,
   "metadata": {
    "collapsed": false
   },
   "outputs": [
   ],
   "source": [
   ]
  },
  {
   "cell_type": "code",
   "execution_count": 34,
   "metadata": {
    "collapsed": false
   },
   "outputs": [
    {
     "data": {
      "text/html": [
       "<div>\n",
       "<style scoped>\n",
       "    .dataframe tbody tr th:only-of-type {\n",
       "        vertical-align: middle;\n",
       "    }\n",
       "\n",
       "    .dataframe tbody tr th {\n",
       "        vertical-align: top;\n",
       "    }\n",
       "\n",
       "    .dataframe thead th {\n",
       "        text-align: right;\n",
       "    }\n",
       "</style>\n",
       "<table border=\"1\" class=\"dataframe\">\n",
       "  <thead>\n",
       "    <tr style=\"text-align: right;\">\n",
       "      <th></th>\n",
       "      <th>Gender</th>\n",
       "      <th>Age</th>\n",
       "      <th>HeartRate</th>\n",
       "      <th>SV</th>\n",
       "      <th>EF</th>\n",
       "      <th>CO</th>\n",
       "      <th>HF</th>\n",
       "      <th>0</th>\n",
       "      <th>1</th>\n",
       "    </tr>\n",
       "  </thead>\n",
       "  <tbody>\n",
       "    <tr>\n",
       "      <th>0</th>\n",
       "      <td>0</td>\n",
       "      <td>53</td>\n",
       "      <td>79</td>\n",
       "      <td>71.99</td>\n",
       "      <td>39.84</td>\n",
       "      <td>5.69</td>\n",
       "      <td>1</td>\n",
       "      <td>0</td>\n",
       "      <td>1</td>\n",
       "    </tr>\n",
       "    <tr>\n",
       "      <th>1</th>\n",
       "      <td>0</td>\n",
       "      <td>48</td>\n",
       "      <td>87</td>\n",
       "      <td>59.09</td>\n",
       "      <td>24.66</td>\n",
       "      <td>5.14</td>\n",
       "      <td>1</td>\n",
       "      <td>0</td>\n",
       "      <td>1</td>\n",
       "    </tr>\n",
       "    <tr>\n",
       "      <th>2</th>\n",
       "      <td>0</td>\n",
       "      <td>79</td>\n",
       "      <td>65</td>\n",
       "      <td>104.43</td>\n",
       "      <td>38.47</td>\n",
       "      <td>6.79</td>\n",
       "      <td>1</td>\n",
       "      <td>0</td>\n",
       "      <td>1</td>\n",
       "    </tr>\n",
       "    <tr>\n",
       "      <th>3</th>\n",
       "      <td>0</td>\n",
       "      <td>45</td>\n",
       "      <td>54</td>\n",
       "      <td>63.02</td>\n",
       "      <td>31.58</td>\n",
       "      <td>3.40</td>\n",
       "      <td>1</td>\n",
       "      <td>0</td>\n",
       "      <td>1</td>\n",
       "    </tr>\n",
       "    <tr>\n",
       "      <th>4</th>\n",
       "      <td>0</td>\n",
       "      <td>60</td>\n",
       "      <td>88</td>\n",
       "      <td>108.44</td>\n",
       "      <td>49.45</td>\n",
       "      <td>9.54</td>\n",
       "      <td>0</td>\n",
       "      <td>1</td>\n",
       "      <td>0</td>\n",
       "    </tr>\n",
       "  </tbody>\n",
       "</table>\n",
       "</div>"
      ],
      "text/plain": [
       "   Gender  Age  HeartRate      SV     EF    CO  HF  0  1\n",
       "0       0   53         79   71.99  39.84  5.69   1  0  1\n",
       "1       0   48         87   59.09  24.66  5.14   1  0  1\n",
       "2       0   79         65  104.43  38.47  6.79   1  0  1\n",
       "3       0   45         54   63.02  31.58  3.40   1  0  1\n",
       "4       0   60         88  108.44  49.45  9.54   0  1  0"
      ]
     },
     "execution_count": 34,
     "metadata": {
     },
     "output_type": "execute_result"
    }
   ],
   "source": [
    "X = Feature\n",
    "X[0:5]"
   ]
  },
  {
   "cell_type": "code",
   "execution_count": 35,
   "metadata": {
    "collapsed": false
   },
   "outputs": [
    {
     "data": {
      "text/plain": [
       "array([1, 1, 1, 1, 0])"
      ]
     },
     "execution_count": 35,
     "metadata": {
     },
     "output_type": "execute_result"
    }
   ],
   "source": [
    "y = df['HF'].values\n",
    "y[0:5]"
   ]
  },
  {
   "cell_type": "code",
   "execution_count": 36,
   "metadata": {
    "collapsed": false
   },
   "outputs": [
    {
     "name": "stdout",
     "output_type": "stream",
     "text": [
      "Train set: (32, 9) (32,)\n",
      "Test set: (9, 9) (9,)\n"
     ]
    },
    {
     "data": {
      "text/plain": [
       "array([[-0.60553007, -0.55782323,  0.99733295, -0.25461099, -0.5972232 ,\n",
       "         0.29991078,  1.02469508, -1.02469508,  1.02469508],\n",
       "       [-0.60553007, -0.91517873,  1.71946365, -0.86510946, -1.43447915,\n",
       "        -0.04780069,  1.02469508, -1.02469508,  1.02469508],\n",
       "       [-0.60553007,  1.3004254 , -0.26639578,  1.28062702, -0.67278583,\n",
       "         0.99533372,  1.02469508, -1.02469508,  1.02469508],\n",
       "       [-0.60553007, -1.12959204, -1.25932549, -0.67912039, -1.05280516,\n",
       "        -1.14783334,  1.02469508, -1.02469508,  1.02469508],\n",
       "       [-0.60553007, -0.05752552,  1.80972999,  1.47040213, -0.06718172,\n",
       "         2.73389106, -0.97590007,  0.97590007, -0.97590007]])"
      ]
     },
     "execution_count": 36,
     "metadata": {
     },
     "output_type": "execute_result"
    }
   ],
   "source": [
    "X_train, X_test, y_train, y_test = train_test_split( X, y, test_size=0.2, random_state=41)\n",
    "print ('Train set:', X_train.shape,  y_train.shape)\n",
    "print ('Test set:', X_test.shape,  y_test.shape)\n",
    "X= preprocessing.StandardScaler().fit(X).transform(X)\n",
    "X[0:5]"
   ]
  },
  {
   "cell_type": "code",
   "execution_count": 37,
   "metadata": {
    "collapsed": false
   },
   "outputs": [
    {
     "name": "stdout",
     "output_type": "stream",
     "text": [
      "[0 0 1 1 0]\n",
      "[0 0 1 1 0]\n",
      "DecisionTrees's Accuracy:  1.0\n"
     ]
    }
   ],
   "source": [
    "HFTree = DecisionTreeClassifier(criterion=\"entropy\", max_depth = 4)\n",
    "HFTree # it shows the default parameters\n",
    "HFTree.fit(X_train,y_train)\n",
    "predTree = HFTree.predict(X_test)\n",
    "print (predTree [0:5])\n",
    "print (y_test [0:5])\n",
    "print(\"DecisionTrees's Accuracy: \", metrics.accuracy_score(y_test, predTree))"
   ]
  },
  {
   "cell_type": "code",
   "execution_count": 38,
   "metadata": {
    "collapsed": false
   },
   "outputs": [
    {
     "data": {
      "image/png": "[encoded data removed]",
      "text/plain": [
       "<IPython.core.display.Image object>"
      ]
     },
     "execution_count": 38,
     "metadata": {
     },
     "output_type": "execute_result"
    }
   ],
   "source": [
    "from io import StringIO \n",
    "from IPython.display import Image  \n",
    "from sklearn.tree import export_graphviz\n",
    "import pydotplus\n",
    "dot_data = StringIO()\n",
    "export_graphviz(HFTree, out_file=dot_data,  \n",
    "                filled=True, rounded=True,\n",
    "                special_characters=True)\n",
    "graph = pydotplus.graph_from_dot_data(dot_data.getvalue())\n",
    "graph.write_png('foto.png')\n",
    "Image(graph.create_png())"
   ]
  },
  {
   "cell_type": "code",
   "execution_count": 0,
   "metadata": {
    "collapsed": false
   },
   "outputs": [
   ],
   "source": [
   ]
  },
  {
   "cell_type": "code",
   "execution_count": 0,
   "metadata": {
    "collapsed": false
   },
   "outputs": [
   ],
   "source": [
   ]
  }
 ],
 "metadata": {
  "kernelspec": {
   "display_name": "Python 3 (system-wide)",
   "language": "python",
   "metadata": {
    "cocalc": {
     "description": "Python 3 programming language",
     "priority": 100,
     "url": "https://www.python.org/"
    }
   },
   "name": "python3",
   "resource_dir": "/ext/jupyter/kernels/python3"
  },
  "language_info": {
   "codemirror_mode": {
    "name": "ipython",
    "version": 3
   },
   "file_extension": ".py",
   "mimetype": "text/x-python",
   "name": "python",
   "nbconvert_exporter": "python",
   "pygments_lexer": "ipython3",
   "version": "3.8.5"
  }
 },
 "nbformat": 4,
 "nbformat_minor": 4
}